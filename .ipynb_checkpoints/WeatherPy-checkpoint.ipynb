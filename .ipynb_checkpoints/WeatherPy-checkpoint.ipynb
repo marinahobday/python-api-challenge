{
 "cells": [
  {
   "cell_type": "markdown",
   "metadata": {},
   "source": [
    "# WeatherPy\n",
    "----\n",
    "\n",
    "#### Note\n",
    "* Instructions have been included for each segment. You do not have to follow them exactly, but they are included to help you think through the steps."
   ]
  },
  {
   "cell_type": "code",
   "execution_count": 104,
   "metadata": {
    "scrolled": true
   },
   "outputs": [],
   "source": [
    "# Dependencies and Setup\n",
    "import matplotlib.pyplot as plt\n",
    "import pandas as pd\n",
    "import numpy as np\n",
    "import requests\n",
    "import time\n",
    "from scipy.stats import linregress\n",
    "import json\n",
    "\n",
    "# Import API key\n",
    "from api_keys import weather_api_key\n",
    "\n",
    "# Incorporated citipy to determine city based on latitude and longitude\n",
    "from citipy import citipy\n",
    "\n",
    "# Output File (CSV)\n",
    "output_data_file = \"output_data/cities.csv\"\n",
    "\n",
    "# Range of latitudes and longitudes\n",
    "lat_range = (-90, 90)\n",
    "lng_range = (-180, 180)"
   ]
  },
  {
   "cell_type": "markdown",
   "metadata": {},
   "source": [
    "## Generate Cities List"
   ]
  },
  {
   "cell_type": "code",
   "execution_count": 105,
   "metadata": {},
   "outputs": [
    {
     "data": {
      "text/plain": [
       "626"
      ]
     },
     "execution_count": 105,
     "metadata": {},
     "output_type": "execute_result"
    }
   ],
   "source": [
    "# List for holding lat_lngs and cities\n",
    "lat_lngs = []\n",
    "cities = []\n",
    "\n",
    "# Create a set of random lat and lng combinations\n",
    "lats = np.random.uniform(lat_range[0], lat_range[1], size=1500)\n",
    "lngs = np.random.uniform(lng_range[0], lng_range[1], size=1500)\n",
    "lat_lngs = zip(lats, lngs)\n",
    "\n",
    "# Identify nearest city for each lat, lng combination\n",
    "for lat_lng in lat_lngs:\n",
    "    city = citipy.nearest_city(lat_lng[0], lat_lng[1]).city_name\n",
    "    \n",
    "    # If the city is unique, then add it to a our cities list\n",
    "    if city not in cities:\n",
    "        cities.append(city)\n",
    "\n",
    "# Print the city count to confirm sufficient count\n",
    "len(cities)\n"
   ]
  },
  {
   "cell_type": "markdown",
   "metadata": {},
   "source": [
    "### Perform API Calls\n",
    "* Perform a weather check on each city using a series of successive API calls.\n",
    "* Include a print log of each city as it'sbeing processed (with the city number and city name).\n"
   ]
  },
  {
   "cell_type": "code",
   "execution_count": 109,
   "metadata": {
    "scrolled": true
   },
   "outputs": [
    {
     "name": "stdout",
     "output_type": "stream",
     "text": [
      "Beginning Data Retrieval\n",
      "-----------------------------\n",
      "Processing Record 1 of Set 626 | rikitea\n",
      "Processing Record 2 of Set 626 | pevek\n",
      "Processing Record 3 of Set 626 | vaini\n",
      "Processing Record 4 of Set 626 | visnes\n",
      "Processing Record 5 of Set 626 | kapaa\n",
      "Processing Record 6 of Set 626 | hasaki\n",
      "Processing Record 7 of Set 626 | tiarei\n",
      "City not found. Skipping...\n",
      "Processing Record 8 of Set 626 | mataura\n",
      "Processing Record 9 of Set 626 | severnoye\n",
      "Processing Record 10 of Set 626 | arraial do cabo\n",
      "Processing Record 11 of Set 626 | albany\n",
      "Processing Record 12 of Set 626 | norman wells\n",
      "Processing Record 13 of Set 626 | barrow\n",
      "Processing Record 14 of Set 626 | ulladulla\n",
      "Processing Record 15 of Set 626 | bowen\n",
      "Processing Record 16 of Set 626 | north platte\n",
      "Processing Record 17 of Set 626 | bereda\n",
      "Processing Record 18 of Set 626 | corrales\n",
      "Processing Record 19 of Set 626 | ushuaia\n",
      "City not found. Skipping...\n",
      "Processing Record 20 of Set 626 | baiquan\n",
      "Processing Record 21 of Set 626 | mar del plata\n",
      "Processing Record 22 of Set 626 | vao\n",
      "Processing Record 23 of Set 626 | nikolskoye\n",
      "Processing Record 24 of Set 626 | severo-kurilsk\n",
      "Processing Record 25 of Set 626 | ketchikan\n",
      "Processing Record 26 of Set 626 | buala\n",
      "Processing Record 27 of Set 626 | dikson\n",
      "Processing Record 28 of Set 626 | chake chake\n",
      "Processing Record 29 of Set 626 | san quintin\n",
      "Processing Record 30 of Set 626 | klaksvik\n",
      "Processing Record 31 of Set 626 | srednekolymsk\n",
      "Processing Record 32 of Set 626 | ouadda\n",
      "Processing Record 33 of Set 626 | provideniya\n",
      "Processing Record 34 of Set 626 | sai buri\n",
      "Processing Record 35 of Set 626 | castro\n",
      "Processing Record 36 of Set 626 | chitral\n",
      "City not found. Skipping...\n",
      "Processing Record 37 of Set 626 | saldanha\n",
      "Processing Record 38 of Set 626 | carnarvon\n",
      "Processing Record 39 of Set 626 | saint-philippe\n",
      "Processing Record 40 of Set 626 | kodiak\n",
      "Processing Record 41 of Set 626 | bluff\n",
      "Processing Record 42 of Set 626 | vila\n",
      "Processing Record 43 of Set 626 | sao joao da barra\n",
      "Processing Record 44 of Set 626 | nanortalik\n",
      "Processing Record 45 of Set 626 | atuona\n",
      "Processing Record 46 of Set 626 | shaunavon\n",
      "Processing Record 47 of Set 626 | tiruchchirappalli\n",
      "Processing Record 48 of Set 626 | yellowknife\n",
      "Processing Record 49 of Set 626 | faanui\n",
      "Processing Record 50 of Set 626 | hobart\n",
      "City not found. Skipping...\n",
      "Processing Record 51 of Set 626 | rio grande\n",
      "Processing Record 52 of Set 626 | lazaro cardenas\n",
      "Processing Record 53 of Set 626 | chicama\n",
      "Processing Record 54 of Set 626 | port alfred\n",
      "Processing Record 55 of Set 626 | katsuura\n",
      "Processing Record 56 of Set 626 | dunedin\n",
      "Processing Record 57 of Set 626 | lorengau\n",
      "Processing Record 58 of Set 626 | lagoa\n",
      "Processing Record 59 of Set 626 | nuevo progreso\n",
      "Processing Record 60 of Set 626 | zhigansk\n",
      "Processing Record 61 of Set 626 | cabo san lucas\n",
      "Processing Record 62 of Set 626 | busselton\n",
      "Processing Record 63 of Set 626 | shache\n",
      "Processing Record 64 of Set 626 | khatanga\n",
      "Processing Record 65 of Set 626 | longyearbyen\n",
      "Processing Record 66 of Set 626 | tasiilaq\n",
      "Processing Record 67 of Set 626 | ribeira brava\n",
      "Processing Record 68 of Set 626 | tuatapere\n",
      "Processing Record 69 of Set 626 | campeche\n",
      "City not found. Skipping...\n",
      "Processing Record 70 of Set 626 | butaritari\n",
      "Processing Record 71 of Set 626 | iqaluit\n",
      "Processing Record 72 of Set 626 | roma\n",
      "City not found. Skipping...\n",
      "Processing Record 73 of Set 626 | manta\n",
      "City not found. Skipping...\n",
      "Processing Record 74 of Set 626 | quatre cocos\n",
      "Processing Record 75 of Set 626 | pemangkat\n",
      "Processing Record 76 of Set 626 | clyde river\n",
      "Processing Record 77 of Set 626 | south lake tahoe\n",
      "Processing Record 78 of Set 626 | honningsvag\n",
      "Processing Record 79 of Set 626 | lavrentiya\n",
      "City not found. Skipping...\n",
      "Processing Record 80 of Set 626 | rocha\n",
      "City not found. Skipping...\n",
      "Processing Record 81 of Set 626 | thompson\n",
      "Processing Record 82 of Set 626 | eureka\n",
      "Processing Record 83 of Set 626 | kashi\n",
      "City not found. Skipping...\n",
      "Processing Record 84 of Set 626 | torbat-e jam\n",
      "Processing Record 85 of Set 626 | chanika\n",
      "Processing Record 86 of Set 626 | leningradskiy\n",
      "Processing Record 87 of Set 626 | coquimbo\n",
      "City not found. Skipping...\n",
      "Processing Record 88 of Set 626 | sinnamary\n",
      "Processing Record 89 of Set 626 | saint anthony\n",
      "Processing Record 90 of Set 626 | port elizabeth\n",
      "Processing Record 91 of Set 626 | skala\n",
      "City not found. Skipping...\n",
      "Processing Record 92 of Set 626 | chuy\n",
      "Processing Record 93 of Set 626 | qaanaaq\n",
      "Processing Record 94 of Set 626 | punta arenas\n",
      "Processing Record 95 of Set 626 | belmonte\n",
      "Processing Record 96 of Set 626 | sri aman\n",
      "Processing Record 97 of Set 626 | port blair\n",
      "City not found. Skipping...\n",
      "Processing Record 98 of Set 626 | leh\n",
      "Processing Record 99 of Set 626 | odweyne\n",
      "Processing Record 100 of Set 626 | souillac\n",
      "Processing Record 101 of Set 626 | new norfolk\n",
      "Processing Record 102 of Set 626 | cidreira\n",
      "Processing Record 103 of Set 626 | cape town\n",
      "Processing Record 104 of Set 626 | royan\n",
      "Processing Record 105 of Set 626 | langsa\n",
      "Processing Record 106 of Set 626 | soja\n",
      "Processing Record 107 of Set 626 | aksu\n",
      "Processing Record 108 of Set 626 | west bay\n",
      "Processing Record 109 of Set 626 | kununurra\n",
      "Processing Record 110 of Set 626 | pacific grove\n",
      "Processing Record 111 of Set 626 | puerto ayora\n",
      "Processing Record 112 of Set 626 | hilo\n",
      "Processing Record 113 of Set 626 | rio gallegos\n",
      "Processing Record 114 of Set 626 | husavik\n",
      "Processing Record 115 of Set 626 | bambous virieux\n",
      "Processing Record 116 of Set 626 | salalah\n",
      "Processing Record 117 of Set 626 | dolores\n",
      "Processing Record 118 of Set 626 | geraldton\n",
      "Processing Record 119 of Set 626 | east london\n",
      "City not found. Skipping...\n",
      "Processing Record 120 of Set 626 | lompoc\n",
      "Processing Record 121 of Set 626 | jacksonville\n",
      "Processing Record 122 of Set 626 | georgetown\n",
      "Processing Record 123 of Set 626 | college\n",
      "Processing Record 124 of Set 626 | lubao\n",
      "Processing Record 125 of Set 626 | bethel\n",
      "City not found. Skipping...\n",
      "Processing Record 126 of Set 626 | corinth\n",
      "Processing Record 127 of Set 626 | jalu\n",
      "City not found. Skipping...\n",
      "Processing Record 128 of Set 626 | bredasdorp\n",
      "Processing Record 129 of Set 626 | saskylakh\n",
      "Processing Record 130 of Set 626 | thunder bay\n",
      "Processing Record 131 of Set 626 | san carlos\n",
      "Processing Record 132 of Set 626 | victoria\n",
      "City not found. Skipping...\n",
      "City not found. Skipping...\n",
      "Processing Record 133 of Set 626 | ilinden\n",
      "Processing Record 134 of Set 626 | waipawa\n",
      "Processing Record 135 of Set 626 | ancud\n",
      "Processing Record 136 of Set 626 | guerrero negro\n",
      "Processing Record 137 of Set 626 | ladario\n",
      "Processing Record 138 of Set 626 | hay river\n",
      "Processing Record 139 of Set 626 | manyana\n",
      "Processing Record 140 of Set 626 | jamestown\n",
      "Processing Record 141 of Set 626 | cockburn town\n",
      "Processing Record 142 of Set 626 | pontes e lacerda\n",
      "Processing Record 143 of Set 626 | haines junction\n",
      "Processing Record 144 of Set 626 | rapid valley\n",
      "City not found. Skipping...\n",
      "Processing Record 145 of Set 626 | vanimo\n",
      "Processing Record 146 of Set 626 | acari\n",
      "Processing Record 147 of Set 626 | saint george\n",
      "Processing Record 148 of Set 626 | bhatkal\n",
      "Processing Record 149 of Set 626 | gizo\n",
      "Processing Record 150 of Set 626 | bosobolo\n",
      "Processing Record 151 of Set 626 | piopio\n",
      "Processing Record 152 of Set 626 | mbandaka\n",
      "Processing Record 153 of Set 626 | jacqueville\n",
      "Processing Record 154 of Set 626 | sawtell\n",
      "Processing Record 155 of Set 626 | avarua\n",
      "Processing Record 156 of Set 626 | sumbe\n",
      "Processing Record 157 of Set 626 | margate\n",
      "Processing Record 158 of Set 626 | nacala\n",
      "Processing Record 159 of Set 626 | mattru\n",
      "Processing Record 160 of Set 626 | qandala\n",
      "Processing Record 161 of Set 626 | torbay\n",
      "Processing Record 162 of Set 626 | banepa\n",
      "Processing Record 163 of Set 626 | biltine\n",
      "City not found. Skipping...\n",
      "Processing Record 164 of Set 626 | hithadhoo\n",
      "Processing Record 165 of Set 626 | green valley\n",
      "Processing Record 166 of Set 626 | kahului\n",
      "Processing Record 167 of Set 626 | bushehr\n",
      "Processing Record 168 of Set 626 | sao filipe\n",
      "Processing Record 169 of Set 626 | kruisfontein\n",
      "Processing Record 170 of Set 626 | selishche\n",
      "Processing Record 171 of Set 626 | azangaro\n",
      "Processing Record 172 of Set 626 | ardakan\n",
      "Processing Record 173 of Set 626 | fortuna\n",
      "Processing Record 174 of Set 626 | hermanus\n"
     ]
    },
    {
     "name": "stdout",
     "output_type": "stream",
     "text": [
      "Processing Record 175 of Set 626 | arlit\n",
      "Processing Record 176 of Set 626 | aswan\n",
      "Processing Record 177 of Set 626 | san vicente\n",
      "Processing Record 178 of Set 626 | camacha\n",
      "City not found. Skipping...\n",
      "Processing Record 179 of Set 626 | rovenki\n",
      "Processing Record 180 of Set 626 | manokwari\n",
      "Processing Record 181 of Set 626 | eldorado\n",
      "City not found. Skipping...\n",
      "Processing Record 182 of Set 626 | morros\n",
      "Processing Record 183 of Set 626 | nuuk\n",
      "Processing Record 184 of Set 626 | broken hill\n",
      "Processing Record 185 of Set 626 | mahibadhoo\n",
      "Processing Record 186 of Set 626 | touros\n",
      "Processing Record 187 of Set 626 | tiksi\n",
      "Processing Record 188 of Set 626 | balabac\n",
      "Processing Record 189 of Set 626 | bathsheba\n",
      "Processing Record 190 of Set 626 | broome\n",
      "Processing Record 191 of Set 626 | taltal\n",
      "Processing Record 192 of Set 626 | vilyuysk\n",
      "City not found. Skipping...\n",
      "Processing Record 193 of Set 626 | manzhouli\n",
      "Processing Record 194 of Set 626 | coos bay\n",
      "Processing Record 195 of Set 626 | pangnirtung\n",
      "City not found. Skipping...\n",
      "Processing Record 196 of Set 626 | mount gambier\n",
      "Processing Record 197 of Set 626 | sitka\n",
      "Processing Record 198 of Set 626 | kyshtovka\n",
      "Processing Record 199 of Set 626 | taoudenni\n",
      "Processing Record 200 of Set 626 | pyskowice\n",
      "Processing Record 201 of Set 626 | vostok\n",
      "City not found. Skipping...\n",
      "Processing Record 202 of Set 626 | warrington\n",
      "Processing Record 203 of Set 626 | sainte-rose\n",
      "Processing Record 204 of Set 626 | faya\n",
      "Processing Record 205 of Set 626 | plettenberg bay\n",
      "Processing Record 206 of Set 626 | bengkulu\n",
      "Processing Record 207 of Set 626 | san cristobal\n",
      "Processing Record 208 of Set 626 | iskateley\n",
      "Processing Record 209 of Set 626 | solnechnyy\n",
      "Processing Record 210 of Set 626 | mareeba\n",
      "City not found. Skipping...\n",
      "Processing Record 211 of Set 626 | fort nelson\n",
      "Processing Record 212 of Set 626 | kingsville\n",
      "Processing Record 213 of Set 626 | nueva gerona\n",
      "Processing Record 214 of Set 626 | vangaindrano\n",
      "Processing Record 215 of Set 626 | tevaitoa\n",
      "Processing Record 216 of Set 626 | sokoni\n",
      "Processing Record 217 of Set 626 | ozernovskiy\n",
      "Processing Record 218 of Set 626 | miri\n",
      "Processing Record 219 of Set 626 | ponta delgada\n",
      "City not found. Skipping...\n",
      "Processing Record 220 of Set 626 | vila franca do campo\n",
      "Processing Record 221 of Set 626 | tabas\n",
      "City not found. Skipping...\n",
      "Processing Record 222 of Set 626 | tecoanapa\n",
      "Processing Record 223 of Set 626 | lishui\n",
      "Processing Record 224 of Set 626 | staryy nadym\n",
      "Processing Record 225 of Set 626 | baijiantan\n",
      "Processing Record 226 of Set 626 | viransehir\n",
      "Processing Record 227 of Set 626 | stabat\n",
      "Processing Record 228 of Set 626 | wilmington\n",
      "Processing Record 229 of Set 626 | westport\n",
      "Processing Record 230 of Set 626 | mago\n",
      "Processing Record 231 of Set 626 | lebu\n",
      "Processing Record 232 of Set 626 | cabedelo\n",
      "Processing Record 233 of Set 626 | upernavik\n",
      "Processing Record 234 of Set 626 | narsaq\n",
      "Processing Record 235 of Set 626 | chernyshevskiy\n",
      "Processing Record 236 of Set 626 | anchorage\n",
      "Processing Record 237 of Set 626 | ponta do sol\n",
      "Processing Record 238 of Set 626 | tabuk\n",
      "Processing Record 239 of Set 626 | pisco\n",
      "Processing Record 240 of Set 626 | vila velha\n",
      "Processing Record 241 of Set 626 | chapais\n",
      "Processing Record 242 of Set 626 | general roca\n",
      "Processing Record 243 of Set 626 | oranjemund\n",
      "Processing Record 244 of Set 626 | sindelfingen\n",
      "Processing Record 245 of Set 626 | tolmin\n",
      "Processing Record 246 of Set 626 | beringovskiy\n",
      "Processing Record 247 of Set 626 | tongchuan\n",
      "Processing Record 248 of Set 626 | yar-sale\n",
      "Processing Record 249 of Set 626 | aracoiaba\n",
      "Processing Record 250 of Set 626 | cheremukhovo\n",
      "Processing Record 251 of Set 626 | maceio\n",
      "Processing Record 252 of Set 626 | juba\n",
      "Processing Record 253 of Set 626 | urengoy\n",
      "Processing Record 254 of Set 626 | weatherford\n",
      "Processing Record 255 of Set 626 | emerald\n",
      "Processing Record 256 of Set 626 | sakrand\n",
      "City not found. Skipping...\n",
      "Processing Record 257 of Set 626 | champerico\n",
      "Processing Record 258 of Set 626 | kirakira\n",
      "Processing Record 259 of Set 626 | aitape\n",
      "Processing Record 260 of Set 626 | mahebourg\n",
      "Processing Record 261 of Set 626 | sande\n",
      "City not found. Skipping...\n",
      "Processing Record 262 of Set 626 | bose\n",
      "Processing Record 263 of Set 626 | ferrol\n",
      "Processing Record 264 of Set 626 | namibe\n",
      "Processing Record 265 of Set 626 | punta de bombon\n",
      "Processing Record 266 of Set 626 | yatou\n",
      "Processing Record 267 of Set 626 | taveta\n",
      "Processing Record 268 of Set 626 | porto novo\n",
      "Processing Record 269 of Set 626 | camabatela\n",
      "Processing Record 270 of Set 626 | road town\n",
      "Processing Record 271 of Set 626 | hornepayne\n",
      "Processing Record 272 of Set 626 | betong\n",
      "Processing Record 273 of Set 626 | tieli\n",
      "Processing Record 274 of Set 626 | porgera\n",
      "Processing Record 275 of Set 626 | aklavik\n",
      "Processing Record 276 of Set 626 | inhambane\n",
      "Processing Record 277 of Set 626 | fernley\n",
      "Processing Record 278 of Set 626 | codrington\n",
      "Processing Record 279 of Set 626 | roebourne\n",
      "City not found. Skipping...\n",
      "Processing Record 280 of Set 626 | inta\n",
      "Processing Record 281 of Set 626 | dwarka\n",
      "Processing Record 282 of Set 626 | inuvik\n",
      "Processing Record 283 of Set 626 | bontang\n",
      "Processing Record 284 of Set 626 | vestmannaeyjar\n",
      "Processing Record 285 of Set 626 | jasper\n",
      "Processing Record 286 of Set 626 | cherskiy\n",
      "Processing Record 287 of Set 626 | luderitz\n",
      "Processing Record 288 of Set 626 | maryville\n",
      "Processing Record 289 of Set 626 | torres\n",
      "Processing Record 290 of Set 626 | ust-charyshskaya pristan\n",
      "Processing Record 291 of Set 626 | raga\n",
      "Processing Record 292 of Set 626 | esperance\n",
      "Processing Record 293 of Set 626 | tianpeng\n",
      "Processing Record 294 of Set 626 | lock haven\n",
      "Processing Record 295 of Set 626 | moron\n",
      "Processing Record 296 of Set 626 | grand gaube\n",
      "Processing Record 297 of Set 626 | perth\n",
      "Processing Record 298 of Set 626 | fukue\n",
      "Processing Record 299 of Set 626 | tororo\n",
      "Processing Record 300 of Set 626 | redmond\n",
      "Processing Record 301 of Set 626 | ribeira grande\n",
      "Processing Record 302 of Set 626 | berlevag\n",
      "Processing Record 303 of Set 626 | hami\n",
      "Processing Record 304 of Set 626 | razole\n",
      "Processing Record 305 of Set 626 | antofagasta\n",
      "Processing Record 306 of Set 626 | grootfontein\n",
      "Processing Record 307 of Set 626 | bandarbeyla\n",
      "Processing Record 308 of Set 626 | tooele\n",
      "Processing Record 309 of Set 626 | horn lake\n",
      "Processing Record 310 of Set 626 | samarai\n",
      "Processing Record 311 of Set 626 | bellevue\n",
      "Processing Record 312 of Set 626 | kavaratti\n",
      "Processing Record 313 of Set 626 | bongaree\n",
      "Processing Record 314 of Set 626 | padang\n",
      "Processing Record 315 of Set 626 | port hardy\n",
      "Processing Record 316 of Set 626 | airai\n",
      "Processing Record 317 of Set 626 | ilhabela\n",
      "Processing Record 318 of Set 626 | tamandare\n",
      "Processing Record 319 of Set 626 | deniliquin\n",
      "Processing Record 320 of Set 626 | isangel\n",
      "Processing Record 321 of Set 626 | corbu\n",
      "Processing Record 322 of Set 626 | gulbene\n",
      "Processing Record 323 of Set 626 | soyo\n",
      "Processing Record 324 of Set 626 | gat\n",
      "Processing Record 325 of Set 626 | sarangani\n",
      "Processing Record 326 of Set 626 | gigmoto\n",
      "Processing Record 327 of Set 626 | shahr-e kord\n",
      "City not found. Skipping...\n",
      "Processing Record 328 of Set 626 | evensk\n",
      "Processing Record 329 of Set 626 | derac\n",
      "Processing Record 330 of Set 626 | constitucion\n",
      "Processing Record 331 of Set 626 | burnie\n",
      "Processing Record 332 of Set 626 | tigre\n",
      "Processing Record 333 of Set 626 | davidson\n",
      "Processing Record 334 of Set 626 | yerbogachen\n",
      "Processing Record 335 of Set 626 | shingu\n",
      "Processing Record 336 of Set 626 | miraflores\n",
      "Processing Record 337 of Set 626 | sur\n",
      "Processing Record 338 of Set 626 | ukiah\n",
      "Processing Record 339 of Set 626 | kargil\n",
      "City not found. Skipping...\n",
      "City not found. Skipping...\n",
      "Processing Record 340 of Set 626 | grand-santi\n",
      "Processing Record 341 of Set 626 | santa barbara\n",
      "City not found. Skipping...\n",
      "Processing Record 342 of Set 626 | charters towers\n",
      "Processing Record 343 of Set 626 | la asuncion\n",
      "Processing Record 344 of Set 626 | jibuti\n",
      "Processing Record 345 of Set 626 | prince george\n",
      "Processing Record 346 of Set 626 | palu\n",
      "Processing Record 347 of Set 626 | avera\n",
      "Processing Record 348 of Set 626 | vagur\n",
      "Processing Record 349 of Set 626 | juarez\n",
      "Processing Record 350 of Set 626 | olinda\n",
      "Processing Record 351 of Set 626 | howard springs\n"
     ]
    },
    {
     "name": "stdout",
     "output_type": "stream",
     "text": [
      "Processing Record 352 of Set 626 | sivaki\n",
      "Processing Record 353 of Set 626 | san jose\n",
      "Processing Record 354 of Set 626 | tatawin\n",
      "Processing Record 355 of Set 626 | tezu\n",
      "Processing Record 356 of Set 626 | krasnyy yar\n",
      "Processing Record 357 of Set 626 | bend\n",
      "Processing Record 358 of Set 626 | pundaguitan\n",
      "City not found. Skipping...\n",
      "Processing Record 359 of Set 626 | contai\n",
      "Processing Record 360 of Set 626 | ostrovnoy\n",
      "Processing Record 361 of Set 626 | rawah\n",
      "Processing Record 362 of Set 626 | iisalmi\n",
      "Processing Record 363 of Set 626 | san mateo ixtatan\n",
      "Processing Record 364 of Set 626 | weiser\n",
      "Processing Record 365 of Set 626 | daru\n",
      "Processing Record 366 of Set 626 | templemore\n",
      "Processing Record 367 of Set 626 | caucaia\n",
      "Processing Record 368 of Set 626 | salinas\n",
      "Processing Record 369 of Set 626 | shenkursk\n",
      "Processing Record 370 of Set 626 | asau\n",
      "City not found. Skipping...\n",
      "Processing Record 371 of Set 626 | adrar\n",
      "Processing Record 372 of Set 626 | lincoln\n",
      "Processing Record 373 of Set 626 | morehead\n",
      "Processing Record 374 of Set 626 | edd\n",
      "Processing Record 375 of Set 626 | wisconsin rapids\n",
      "Processing Record 376 of Set 626 | matara\n",
      "Processing Record 377 of Set 626 | chokurdakh\n",
      "Processing Record 378 of Set 626 | jiangdu\n",
      "Processing Record 379 of Set 626 | port macquarie\n",
      "Processing Record 380 of Set 626 | tuktoyaktuk\n",
      "Processing Record 381 of Set 626 | merauke\n",
      "Processing Record 382 of Set 626 | luancheng\n",
      "Processing Record 383 of Set 626 | brandenburg\n",
      "City not found. Skipping...\n",
      "Processing Record 384 of Set 626 | sorong\n",
      "Processing Record 385 of Set 626 | raipur\n",
      "Processing Record 386 of Set 626 | hofn\n",
      "Processing Record 387 of Set 626 | palmer\n",
      "Processing Record 388 of Set 626 | svetlogorsk\n",
      "Processing Record 389 of Set 626 | hirado\n",
      "Processing Record 390 of Set 626 | matay\n",
      "Processing Record 391 of Set 626 | corn island\n",
      "Processing Record 392 of Set 626 | tadine\n",
      "Processing Record 393 of Set 626 | malanje\n",
      "Processing Record 394 of Set 626 | deep river\n",
      "Processing Record 395 of Set 626 | aljezur\n",
      "Processing Record 396 of Set 626 | andros town\n",
      "Processing Record 397 of Set 626 | komsomolskiy\n",
      "Processing Record 398 of Set 626 | tazovskiy\n",
      "Processing Record 399 of Set 626 | aparecida do taboado\n",
      "Processing Record 400 of Set 626 | baghdad\n",
      "Processing Record 401 of Set 626 | sadiqabad\n",
      "Processing Record 402 of Set 626 | sisimiut\n",
      "Processing Record 403 of Set 626 | novyy urengoy\n",
      "Processing Record 404 of Set 626 | manoel urbano\n",
      "Processing Record 405 of Set 626 | baruun-urt\n",
      "Processing Record 406 of Set 626 | kamina\n",
      "Processing Record 407 of Set 626 | kasongo-lunda\n",
      "Processing Record 408 of Set 626 | ust-nera\n",
      "Processing Record 409 of Set 626 | egvekinot\n",
      "Processing Record 410 of Set 626 | vallenar\n",
      "City not found. Skipping...\n",
      "Processing Record 411 of Set 626 | tarata\n",
      "Processing Record 412 of Set 626 | bundaberg\n",
      "Processing Record 413 of Set 626 | daniel flores\n",
      "Processing Record 414 of Set 626 | port moresby\n",
      "City not found. Skipping...\n",
      "Processing Record 415 of Set 626 | ixtapa\n",
      "Processing Record 416 of Set 626 | mandal\n",
      "Processing Record 417 of Set 626 | jovellar\n",
      "Processing Record 418 of Set 626 | nakhon thai\n",
      "Processing Record 419 of Set 626 | candelaria\n",
      "Processing Record 420 of Set 626 | bakchar\n",
      "Processing Record 421 of Set 626 | maumere\n",
      "City not found. Skipping...\n",
      "Processing Record 422 of Set 626 | lucapa\n",
      "Processing Record 423 of Set 626 | gornyy\n",
      "Processing Record 424 of Set 626 | khandyga\n",
      "Processing Record 425 of Set 626 | poum\n",
      "Processing Record 426 of Set 626 | marzuq\n",
      "Processing Record 427 of Set 626 | te anau\n",
      "Processing Record 428 of Set 626 | kaeo\n",
      "Processing Record 429 of Set 626 | zomba\n",
      "Processing Record 430 of Set 626 | pemba\n",
      "Processing Record 431 of Set 626 | rossland\n",
      "Processing Record 432 of Set 626 | semporna\n",
      "Processing Record 433 of Set 626 | kaitangata\n",
      "Processing Record 434 of Set 626 | sidi ali\n",
      "Processing Record 435 of Set 626 | yaan\n",
      "Processing Record 436 of Set 626 | kinablangan\n",
      "Processing Record 437 of Set 626 | sicamous\n",
      "Processing Record 438 of Set 626 | solone\n",
      "Processing Record 439 of Set 626 | aksarka\n",
      "Processing Record 440 of Set 626 | bitung\n",
      "Processing Record 441 of Set 626 | lasa\n",
      "Processing Record 442 of Set 626 | sayyan\n",
      "Processing Record 443 of Set 626 | thinadhoo\n",
      "Processing Record 444 of Set 626 | huarmey\n",
      "Processing Record 445 of Set 626 | ibanda\n",
      "Processing Record 446 of Set 626 | la ronge\n",
      "City not found. Skipping...\n",
      "Processing Record 447 of Set 626 | saint-augustin\n",
      "Processing Record 448 of Set 626 | marystown\n",
      "Processing Record 449 of Set 626 | caravelas\n",
      "Processing Record 450 of Set 626 | arman\n",
      "Processing Record 451 of Set 626 | rayon\n",
      "Processing Record 452 of Set 626 | miracema do tocantins\n",
      "Processing Record 453 of Set 626 | terney\n",
      "Processing Record 454 of Set 626 | szczytno\n",
      "Processing Record 455 of Set 626 | requena\n",
      "Processing Record 456 of Set 626 | guadalupe y calvo\n",
      "Processing Record 457 of Set 626 | kavieng\n",
      "City not found. Skipping...\n",
      "Processing Record 458 of Set 626 | sabang\n",
      "Processing Record 459 of Set 626 | buluang\n",
      "Processing Record 460 of Set 626 | riverton\n",
      "Processing Record 461 of Set 626 | zima\n",
      "City not found. Skipping...\n",
      "Processing Record 462 of Set 626 | ust-kulom\n",
      "Processing Record 463 of Set 626 | ribas do rio pardo\n",
      "Processing Record 464 of Set 626 | santa ines\n",
      "Processing Record 465 of Set 626 | ilulissat\n",
      "Processing Record 466 of Set 626 | cordele\n",
      "Processing Record 467 of Set 626 | russell\n",
      "Processing Record 468 of Set 626 | fairbanks\n",
      "Processing Record 469 of Set 626 | naze\n",
      "Processing Record 470 of Set 626 | krasnyy chikoy\n",
      "Processing Record 471 of Set 626 | makakilo city\n",
      "Processing Record 472 of Set 626 | limon\n",
      "Processing Record 473 of Set 626 | pauini\n",
      "Processing Record 474 of Set 626 | korla\n",
      "Processing Record 475 of Set 626 | brekstad\n",
      "Processing Record 476 of Set 626 | camopi\n",
      "Processing Record 477 of Set 626 | monrovia\n",
      "Processing Record 478 of Set 626 | ambunti\n",
      "Processing Record 479 of Set 626 | homer\n",
      "Processing Record 480 of Set 626 | ayan\n",
      "Processing Record 481 of Set 626 | zhezkazgan\n",
      "Processing Record 482 of Set 626 | tongliao\n",
      "Processing Record 483 of Set 626 | alice springs\n",
      "Processing Record 484 of Set 626 | san luis\n",
      "Processing Record 485 of Set 626 | konya\n",
      "Processing Record 486 of Set 626 | krasnokholm\n",
      "City not found. Skipping...\n",
      "City not found. Skipping...\n",
      "Processing Record 487 of Set 626 | omsukchan\n",
      "Processing Record 488 of Set 626 | waddan\n",
      "Processing Record 489 of Set 626 | krasnoselkup\n",
      "Processing Record 490 of Set 626 | stornoway\n",
      "Processing Record 491 of Set 626 | guigue\n",
      "Processing Record 492 of Set 626 | bridgwater\n",
      "Processing Record 493 of Set 626 | sao joao do piaui\n",
      "Processing Record 494 of Set 626 | ankazoabo\n",
      "Processing Record 495 of Set 626 | itarema\n",
      "Processing Record 496 of Set 626 | deming\n",
      "Processing Record 497 of Set 626 | beausejour\n",
      "Processing Record 498 of Set 626 | coahuayana\n",
      "Processing Record 499 of Set 626 | liaozhong\n",
      "Processing Record 500 of Set 626 | podyuga\n",
      "Processing Record 501 of Set 626 | mehamn\n",
      "Processing Record 502 of Set 626 | mount isa\n",
      "Processing Record 503 of Set 626 | praia\n",
      "Processing Record 504 of Set 626 | alofi\n",
      "City not found. Skipping...\n",
      "Processing Record 505 of Set 626 | lola\n",
      "Processing Record 506 of Set 626 | bulgan\n",
      "Processing Record 507 of Set 626 | paracuru\n",
      "Processing Record 508 of Set 626 | rawson\n",
      "Processing Record 509 of Set 626 | inverell\n",
      "Processing Record 510 of Set 626 | tabou\n",
      "Processing Record 511 of Set 626 | tilichiki\n",
      "Processing Record 512 of Set 626 | coihaique\n",
      "Processing Record 513 of Set 626 | olafsvik\n",
      "Processing Record 514 of Set 626 | wekiva springs\n",
      "Processing Record 515 of Set 626 | sept-iles\n",
      "Processing Record 516 of Set 626 | mahon\n",
      "Processing Record 517 of Set 626 | vidor\n",
      "City not found. Skipping...\n",
      "Processing Record 518 of Set 626 | hamilton\n",
      "Processing Record 519 of Set 626 | mandalgovi\n",
      "Processing Record 520 of Set 626 | jinxi\n",
      "Processing Record 521 of Set 626 | vagay\n",
      "Processing Record 522 of Set 626 | dingle\n",
      "Processing Record 523 of Set 626 | paamiut\n",
      "Processing Record 524 of Set 626 | tautira\n",
      "Processing Record 525 of Set 626 | mabaruma\n",
      "Processing Record 526 of Set 626 | bairiki\n",
      "Processing Record 527 of Set 626 | phan thiet\n",
      "Processing Record 528 of Set 626 | elizabeth city\n",
      "Processing Record 529 of Set 626 | mulatupo\n"
     ]
    },
    {
     "name": "stdout",
     "output_type": "stream",
     "text": [
      "Processing Record 530 of Set 626 | awjilah\n",
      "Processing Record 531 of Set 626 | lanzhou\n",
      "Processing Record 532 of Set 626 | beira\n",
      "Processing Record 533 of Set 626 | porkhov\n",
      "Processing Record 534 of Set 626 | moissac\n",
      "Processing Record 535 of Set 626 | sretensk\n",
      "Processing Record 536 of Set 626 | finschhafen\n",
      "Processing Record 537 of Set 626 | zhangjiakou\n",
      "Processing Record 538 of Set 626 | akcakoca\n",
      "Processing Record 539 of Set 626 | ovalle\n",
      "Processing Record 540 of Set 626 | yulara\n",
      "Processing Record 541 of Set 626 | harper\n",
      "City not found. Skipping...\n",
      "Processing Record 542 of Set 626 | san alberto\n",
      "Processing Record 543 of Set 626 | puerto cabezas\n",
      "Processing Record 544 of Set 626 | morro bay\n",
      "Processing Record 545 of Set 626 | buchanan\n",
      "Processing Record 546 of Set 626 | muros\n",
      "Processing Record 547 of Set 626 | saint-joseph\n",
      "Processing Record 548 of Set 626 | brae\n",
      "Processing Record 549 of Set 626 | abu samrah\n",
      "Processing Record 550 of Set 626 | tomari\n",
      "Processing Record 551 of Set 626 | butte\n",
      "City not found. Skipping...\n",
      "Processing Record 552 of Set 626 | flinders\n",
      "Processing Record 553 of Set 626 | maldonado\n",
      "Processing Record 554 of Set 626 | polis\n",
      "Processing Record 555 of Set 626 | marsh harbour\n",
      "Processing Record 556 of Set 626 | aqtobe\n",
      "Processing Record 557 of Set 626 | luganville\n",
      "City not found. Skipping...\n",
      "Processing Record 558 of Set 626 | mao\n",
      "Processing Record 559 of Set 626 | kapit\n",
      "Processing Record 560 of Set 626 | divnoye\n",
      "Processing Record 561 of Set 626 | bouafle\n",
      "Processing Record 562 of Set 626 | vardo\n",
      "Processing Record 563 of Set 626 | la malbaie\n",
      "Processing Record 564 of Set 626 | shirokiy\n",
      "City not found. Skipping...\n",
      "Processing Record 565 of Set 626 | floriano\n",
      "Processing Record 566 of Set 626 | fare\n",
      "City not found. Skipping...\n",
      "Processing Record 567 of Set 626 | chipinge\n",
      "Processing Record 568 of Set 626 | san patricio\n",
      "Processing Record 569 of Set 626 | santo antonio do ica\n",
      "Processing Record 570 of Set 626 | contamana\n",
      "Processing Record 571 of Set 626 | varhaug\n",
      "Processing Record 572 of Set 626 | sobolevo\n",
      "Processing Record 573 of Set 626 | hualmay\n",
      "-----------------------------\n",
      "Data Retrieval Complete\n",
      "-----------------------------\n"
     ]
    }
   ],
   "source": [
    "#call API\n",
    "url = 'http://api.openweathermap.org/data/2.5/weather?units=Imperial&APPID=' + weather_api_key\n",
    "    \n",
    "request = requests.get(url)\n",
    "request_json=request.json()\n",
    "#print(json.dumps(request_json, indent=4, sort_keys=True))\n",
    "\n",
    "#create list and counter\n",
    "counter = 1\n",
    "name = []\n",
    "lat = []\n",
    "lng = []\n",
    "temp = []\n",
    "clouds = []\n",
    "wind = []\n",
    "humidity = []\n",
    "\n",
    "print('Beginning Data Retrieval')     \n",
    "print('-----------------------------')\n",
    "\n",
    "#loop through city to retreive data, printing the cities and number\n",
    "for city in cities: \n",
    "    try:\n",
    "        weatherdata = (requests.get(url + '&q=' + city)).json()\n",
    "        name.append(weatherdata['name'])\n",
    "        lat.append(weatherdata['coord']['lat'])\n",
    "        lng.append(weatherdata['coord']['lon'])\n",
    "        temp.append(weatherdata['main']['temp'])\n",
    "        clouds.append(weatherdata['clouds']['all'])\n",
    "        wind.append(weatherdata['wind']['speed'])\n",
    "        humidity.append(weatherdata['main']['humidity'])\n",
    "       \n",
    "        print(f'Processing Record {counter} of Set {len(cities)} | {city}')\n",
    "        counter = counter + 1\n",
    "        \n",
    "    except KeyError:\n",
    "        print(f'City not found. Skipping...')\n",
    "        \n",
    "\n",
    "print('-----------------------------')\n",
    "print('Data Retrieval Complete')      \n",
    "print('-----------------------------')"
   ]
  },
  {
   "cell_type": "markdown",
   "metadata": {},
   "source": [
    "### Convert Raw Data to DataFrame\n",
    "* Export the city data into a .csv.\n",
    "* Display the DataFrame"
   ]
  },
  {
   "cell_type": "code",
   "execution_count": 110,
   "metadata": {},
   "outputs": [
    {
     "data": {
      "text/html": [
       "<div>\n",
       "<style scoped>\n",
       "    .dataframe tbody tr th:only-of-type {\n",
       "        vertical-align: middle;\n",
       "    }\n",
       "\n",
       "    .dataframe tbody tr th {\n",
       "        vertical-align: top;\n",
       "    }\n",
       "\n",
       "    .dataframe thead th {\n",
       "        text-align: right;\n",
       "    }\n",
       "</style>\n",
       "<table border=\"1\" class=\"dataframe\">\n",
       "  <thead>\n",
       "    <tr style=\"text-align: right;\">\n",
       "      <th></th>\n",
       "      <th>City</th>\n",
       "      <th>Latitude</th>\n",
       "      <th>Longitude</th>\n",
       "      <th>Temperature</th>\n",
       "      <th>Cloudiness</th>\n",
       "      <th>Wind Speed</th>\n",
       "      <th>Humidity</th>\n",
       "    </tr>\n",
       "  </thead>\n",
       "  <tbody>\n",
       "    <tr>\n",
       "      <th>0</th>\n",
       "      <td>Rikitea</td>\n",
       "      <td>-23.12</td>\n",
       "      <td>-134.97</td>\n",
       "      <td>75.56</td>\n",
       "      <td>100</td>\n",
       "      <td>16.75</td>\n",
       "      <td>83</td>\n",
       "    </tr>\n",
       "    <tr>\n",
       "      <th>1</th>\n",
       "      <td>Pevek</td>\n",
       "      <td>69.70</td>\n",
       "      <td>170.31</td>\n",
       "      <td>20.44</td>\n",
       "      <td>100</td>\n",
       "      <td>13.73</td>\n",
       "      <td>97</td>\n",
       "    </tr>\n",
       "    <tr>\n",
       "      <th>2</th>\n",
       "      <td>Vaini</td>\n",
       "      <td>-21.20</td>\n",
       "      <td>-175.20</td>\n",
       "      <td>77.00</td>\n",
       "      <td>20</td>\n",
       "      <td>12.75</td>\n",
       "      <td>73</td>\n",
       "    </tr>\n",
       "    <tr>\n",
       "      <th>3</th>\n",
       "      <td>Visnes</td>\n",
       "      <td>59.36</td>\n",
       "      <td>5.22</td>\n",
       "      <td>48.38</td>\n",
       "      <td>100</td>\n",
       "      <td>13.87</td>\n",
       "      <td>87</td>\n",
       "    </tr>\n",
       "    <tr>\n",
       "      <th>4</th>\n",
       "      <td>Kapaa</td>\n",
       "      <td>22.08</td>\n",
       "      <td>-159.32</td>\n",
       "      <td>82.13</td>\n",
       "      <td>75</td>\n",
       "      <td>5.82</td>\n",
       "      <td>69</td>\n",
       "    </tr>\n",
       "    <tr>\n",
       "      <th>...</th>\n",
       "      <td>...</td>\n",
       "      <td>...</td>\n",
       "      <td>...</td>\n",
       "      <td>...</td>\n",
       "      <td>...</td>\n",
       "      <td>...</td>\n",
       "      <td>...</td>\n",
       "    </tr>\n",
       "    <tr>\n",
       "      <th>568</th>\n",
       "      <td>Santo Antônio do Içá</td>\n",
       "      <td>-3.10</td>\n",
       "      <td>-67.94</td>\n",
       "      <td>76.95</td>\n",
       "      <td>100</td>\n",
       "      <td>3.51</td>\n",
       "      <td>93</td>\n",
       "    </tr>\n",
       "    <tr>\n",
       "      <th>569</th>\n",
       "      <td>Contamana</td>\n",
       "      <td>-7.33</td>\n",
       "      <td>-75.02</td>\n",
       "      <td>85.03</td>\n",
       "      <td>28</td>\n",
       "      <td>3.74</td>\n",
       "      <td>59</td>\n",
       "    </tr>\n",
       "    <tr>\n",
       "      <th>570</th>\n",
       "      <td>Varhaug</td>\n",
       "      <td>58.61</td>\n",
       "      <td>5.65</td>\n",
       "      <td>45.66</td>\n",
       "      <td>100</td>\n",
       "      <td>8.99</td>\n",
       "      <td>99</td>\n",
       "    </tr>\n",
       "    <tr>\n",
       "      <th>571</th>\n",
       "      <td>Sobolevo</td>\n",
       "      <td>54.43</td>\n",
       "      <td>31.90</td>\n",
       "      <td>43.14</td>\n",
       "      <td>0</td>\n",
       "      <td>10.85</td>\n",
       "      <td>85</td>\n",
       "    </tr>\n",
       "    <tr>\n",
       "      <th>572</th>\n",
       "      <td>Hualmay</td>\n",
       "      <td>-11.10</td>\n",
       "      <td>-77.61</td>\n",
       "      <td>63.48</td>\n",
       "      <td>98</td>\n",
       "      <td>7.78</td>\n",
       "      <td>86</td>\n",
       "    </tr>\n",
       "  </tbody>\n",
       "</table>\n",
       "<p>573 rows × 7 columns</p>\n",
       "</div>"
      ],
      "text/plain": [
       "                     City  Latitude  Longitude  Temperature  Cloudiness  \\\n",
       "0                 Rikitea    -23.12    -134.97        75.56         100   \n",
       "1                   Pevek     69.70     170.31        20.44         100   \n",
       "2                   Vaini    -21.20    -175.20        77.00          20   \n",
       "3                  Visnes     59.36       5.22        48.38         100   \n",
       "4                   Kapaa     22.08    -159.32        82.13          75   \n",
       "..                    ...       ...        ...          ...         ...   \n",
       "568  Santo Antônio do Içá     -3.10     -67.94        76.95         100   \n",
       "569             Contamana     -7.33     -75.02        85.03          28   \n",
       "570               Varhaug     58.61       5.65        45.66         100   \n",
       "571              Sobolevo     54.43      31.90        43.14           0   \n",
       "572               Hualmay    -11.10     -77.61        63.48          98   \n",
       "\n",
       "     Wind Speed  Humidity  \n",
       "0         16.75        83  \n",
       "1         13.73        97  \n",
       "2         12.75        73  \n",
       "3         13.87        87  \n",
       "4          5.82        69  \n",
       "..          ...       ...  \n",
       "568        3.51        93  \n",
       "569        3.74        59  \n",
       "570        8.99        99  \n",
       "571       10.85        85  \n",
       "572        7.78        86  \n",
       "\n",
       "[573 rows x 7 columns]"
      ]
     },
     "execution_count": 110,
     "metadata": {},
     "output_type": "execute_result"
    }
   ],
   "source": [
    "#Create a dataframe with required items\n",
    "weatherdataDF = pd.DataFrame({'City': name,\n",
    "                            'Latitude': lat,\n",
    "                            'Longitude': lng,\n",
    "                            'Temperature': temp,\n",
    "                            'Cloudiness': clouds,\n",
    "                            'Wind Speed': wind,\n",
    "                            'Humidity': humidity})\n",
    "\n",
    "#Save dataframe as csv\n",
    "pd.DataFrame.to_csv(weatherdataDF, 'weatherdata.csv')\n",
    "\n",
    "#print dataframe\n",
    "weatherdataDF"
   ]
  },
  {
   "cell_type": "markdown",
   "metadata": {},
   "source": [
    "## Inspect the data and remove the cities where the humidity > 100%.\n",
    "----\n",
    "Skip this step if there are no cities that have humidity > 100%. "
   ]
  },
  {
   "cell_type": "code",
   "execution_count": 111,
   "metadata": {},
   "outputs": [
    {
     "data": {
      "text/html": [
       "<div>\n",
       "<style scoped>\n",
       "    .dataframe tbody tr th:only-of-type {\n",
       "        vertical-align: middle;\n",
       "    }\n",
       "\n",
       "    .dataframe tbody tr th {\n",
       "        vertical-align: top;\n",
       "    }\n",
       "\n",
       "    .dataframe thead th {\n",
       "        text-align: right;\n",
       "    }\n",
       "</style>\n",
       "<table border=\"1\" class=\"dataframe\">\n",
       "  <thead>\n",
       "    <tr style=\"text-align: right;\">\n",
       "      <th></th>\n",
       "      <th>City</th>\n",
       "      <th>Latitude</th>\n",
       "      <th>Longitude</th>\n",
       "      <th>Temperature</th>\n",
       "      <th>Cloudiness</th>\n",
       "      <th>Wind Speed</th>\n",
       "      <th>Humidity</th>\n",
       "    </tr>\n",
       "  </thead>\n",
       "  <tbody>\n",
       "    <tr>\n",
       "      <th>0</th>\n",
       "      <td>Rikitea</td>\n",
       "      <td>-23.12</td>\n",
       "      <td>-134.97</td>\n",
       "      <td>75.56</td>\n",
       "      <td>100</td>\n",
       "      <td>16.75</td>\n",
       "      <td>83</td>\n",
       "    </tr>\n",
       "    <tr>\n",
       "      <th>1</th>\n",
       "      <td>Pevek</td>\n",
       "      <td>69.70</td>\n",
       "      <td>170.31</td>\n",
       "      <td>20.44</td>\n",
       "      <td>100</td>\n",
       "      <td>13.73</td>\n",
       "      <td>97</td>\n",
       "    </tr>\n",
       "    <tr>\n",
       "      <th>2</th>\n",
       "      <td>Vaini</td>\n",
       "      <td>-21.20</td>\n",
       "      <td>-175.20</td>\n",
       "      <td>77.00</td>\n",
       "      <td>20</td>\n",
       "      <td>12.75</td>\n",
       "      <td>73</td>\n",
       "    </tr>\n",
       "    <tr>\n",
       "      <th>3</th>\n",
       "      <td>Visnes</td>\n",
       "      <td>59.36</td>\n",
       "      <td>5.22</td>\n",
       "      <td>48.38</td>\n",
       "      <td>100</td>\n",
       "      <td>13.87</td>\n",
       "      <td>87</td>\n",
       "    </tr>\n",
       "    <tr>\n",
       "      <th>4</th>\n",
       "      <td>Kapaa</td>\n",
       "      <td>22.08</td>\n",
       "      <td>-159.32</td>\n",
       "      <td>82.13</td>\n",
       "      <td>75</td>\n",
       "      <td>5.82</td>\n",
       "      <td>69</td>\n",
       "    </tr>\n",
       "  </tbody>\n",
       "</table>\n",
       "</div>"
      ],
      "text/plain": [
       "      City  Latitude  Longitude  Temperature  Cloudiness  Wind Speed  Humidity\n",
       "0  Rikitea    -23.12    -134.97        75.56         100       16.75        83\n",
       "1    Pevek     69.70     170.31        20.44         100       13.73        97\n",
       "2    Vaini    -21.20    -175.20        77.00          20       12.75        73\n",
       "3   Visnes     59.36       5.22        48.38         100       13.87        87\n",
       "4    Kapaa     22.08    -159.32        82.13          75        5.82        69"
      ]
     },
     "execution_count": 111,
     "metadata": {},
     "output_type": "execute_result"
    }
   ],
   "source": [
    "#  Get the indices of cities that have humidity over 100%.\n",
    "# Make a new DataFrame equal to the city data to drop all humidity outliers by index.\n",
    "# Passing \"inplace=False\" will make a copy of the city_data DataFrame, which we call \"clean_city_data\".\n",
    "# First filter out those rows which \n",
    "# does not contain any data \n",
    "\n",
    "clean_weatherDF= weatherdataDF.drop(weatherdataDF[weatherdataDF['Humidity'] > 100].index, inplace = False) \n",
    "clean_weatherDF.head()"
   ]
  },
  {
   "cell_type": "markdown",
   "metadata": {},
   "source": [
    "## Plotting the Data\n",
    "* Use proper labeling of the plots using plot titles (including date of analysis) and axes labels.\n",
    "* Save the plotted figures as .pngs."
   ]
  },
  {
   "cell_type": "markdown",
   "metadata": {},
   "source": [
    "## Latitude vs. Temperature Plot"
   ]
  },
  {
   "cell_type": "code",
   "execution_count": 112,
   "metadata": {
    "scrolled": true
   },
   "outputs": [
    {
     "data": {
      "image/png": "[encoded data removed]",
      "text/plain": [
       "<Figure size 432x288 with 1 Axes>"
      ]
     },
     "metadata": {
      "needs_background": "light"
     },
     "output_type": "display_data"
    }
   ],
   "source": [
    "#Plot latitude vs temperature and save as .png\n",
    "plt.scatter(clean_weatherDF['Latitude'], clean_weatherDF['Temperature'])\n",
    "plt.title(f'City Latitude vs. Max Temperature')\n",
    "plt.xlabel('Latitude')\n",
    "plt.ylabel('Max Temperature (F)')\n",
    "plt.grid(True)\n",
    "plt.savefig('latTemp.png')"
   ]
  },
  {
   "cell_type": "markdown",
   "metadata": {},
   "source": [
    "## Latitude vs. Humidity Plot"
   ]
  },
  {
   "cell_type": "code",
   "execution_count": 115,
   "metadata": {},
   "outputs": [
    {
     "data": {
      "image/png": "[encoded data removed]",
      "text/plain": [
       "<Figure size 432x288 with 1 Axes>"
      ]
     },
     "metadata": {
      "needs_background": "light"
     },
     "output_type": "display_data"
    }
   ],
   "source": [
    "plt.scatter(clean_weatherDF['Latitude'], clean_weatherDF['Humidity'])\n",
    "plt.title(f'City Latitude vs. Humidity')\n",
    "plt.xlabel('Latitude')\n",
    "plt.ylabel('Humidity (%)')\n",
    "plt.grid(True)\n",
    "plt.savefig('latHumid.png')"
   ]
  },
  {
   "cell_type": "markdown",
   "metadata": {},
   "source": [
    "## Latitude vs. Cloudiness Plot"
   ]
  },
  {
   "cell_type": "code",
   "execution_count": 116,
   "metadata": {},
   "outputs": [
    {
     "data": {
      "image/png": "[encoded data removed]",
      "text/plain": [
       "<Figure size 432x288 with 1 Axes>"
      ]
     },
     "metadata": {
      "needs_background": "light"
     },
     "output_type": "display_data"
    }
   ],
   "source": [
    "plt.scatter(clean_weatherDF['Latitude'], clean_weatherDF['Cloudiness'])\n",
    "plt.title(f'City Latitude vs. Cloudiness')\n",
    "plt.xlabel('Latitude')\n",
    "plt.ylabel('Cloudiness (%)')\n",
    "plt.grid(True)\n",
    "plt.savefig('lat_cloud.png')"
   ]
  },
  {
   "cell_type": "markdown",
   "metadata": {},
   "source": [
    "## Latitude vs. Wind Speed Plot"
   ]
  },
  {
   "cell_type": "code",
   "execution_count": 117,
   "metadata": {},
   "outputs": [
    {
     "data": {
      "image/png": "[encoded data removed]",
      "text/plain": [
       "<Figure size 432x288 with 1 Axes>"
      ]
     },
     "metadata": {
      "needs_background": "light"
     },
     "output_type": "display_data"
    }
   ],
   "source": [
    "plt.scatter(city_data_df['Latitude'], city_data_df['Wind Speed'])\n",
    "plt.title(f'City Latitude vs. Wind Speed')\n",
    "plt.xlabel('Latitude')\n",
    "plt.ylabel('Wind Speed (mph)')\n",
    "plt.grid(True)\n",
    "plt.savefig('lat_wind.png')"
   ]
  },
  {
   "cell_type": "markdown",
   "metadata": {},
   "source": [
    "## Linear Regression"
   ]
  },
  {
   "cell_type": "code",
   "execution_count": 118,
   "metadata": {},
   "outputs": [],
   "source": [
    "#find northern and southern hemisphere through .loc\n",
    "northernhem = clean_city_data.loc[city_data_df['Latitude'] >= 0]\n",
    "southernhem = clean_city_data.loc[city_data_df['Latitude'] < 0]"
   ]
  },
  {
   "cell_type": "markdown",
   "metadata": {},
   "source": [
    "####  Northern Hemisphere - Max Temp vs. Latitude Linear Regression"
   ]
  },
  {
   "cell_type": "code",
   "execution_count": 120,
   "metadata": {},
   "outputs": [
    {
     "name": "stdout",
     "output_type": "stream",
     "text": [
      "The r value is 0      65.402253\n",
      "4      19.336624\n",
      "6      60.015332\n",
      "7      35.891293\n",
      "8      57.194118\n",
      "         ...    \n",
      "538    89.877612\n",
      "539    24.627731\n",
      "540    25.415541\n",
      "541    39.329980\n",
      "542    64.476043\n",
      "Name: Latitude, Length: 373, dtype: float64\n",
      "y=-1.06x+95.23\n"
     ]
    },
    {
     "data": {
      "text/plain": [
       "Text(10, 15, 'y=-1.06x+95.23')"
      ]
     },
     "execution_count": 120,
     "metadata": {},
     "output_type": "execute_result"
    },
    {
     "data": {
      "image/png": "[encoded data removed]",
      "text/plain": [
       "<Figure size 432x288 with 1 Axes>"
      ]
     },
     "metadata": {
      "needs_background": "light"
     },
     "output_type": "display_data"
    }
   ],
   "source": [
    "xvalue = northernhem[\"Latitude\"]\n",
    "yvalue = northernhem[\"Temperature\"]\n",
    "plt.scatter(xvalue, yvalue)\n",
    "\n",
    "(slope, intercept, rvalue, pvalue, stderr) = linregress(xvalue, yvalue)\n",
    "\n",
    "# Get regression values\n",
    "regressionvalue = xvalue * slope + intercept\n",
    "print(f'The r value is {regressionValues}')\n",
    "line = \"y=\" + str(round(slope, 2)) + \"x+\" + str(round(intercept,2))\n",
    "\n",
    "plt.scatter(xvalue, yvalue)\n",
    "plt.plot(xvalue, regressionvalue)\n",
    "\n",
    "plt.xlabel(\"Latitude\")\n",
    "plt.ylabel(\"Max Temperature\")\n",
    "plt.annotate(line, (10,15))"
   ]
  },
  {
   "cell_type": "markdown",
   "metadata": {},
   "source": [
    "####  Southern Hemisphere - Max Temp vs. Latitude Linear Regression"
   ]
  },
  {
   "cell_type": "code",
   "execution_count": 121,
   "metadata": {},
   "outputs": [
    {
     "data": {
      "text/plain": [
       "Text(10, 15, 'y=0.74x+87.59')"
      ]
     },
     "execution_count": 121,
     "metadata": {},
     "output_type": "execute_result"
    },
    {
     "data": {
      "image/png": "[encoded data removed]",
      "text/plain": [
       "<Figure size 432x288 with 1 Axes>"
      ]
     },
     "metadata": {
      "needs_background": "light"
     },
     "output_type": "display_data"
    }
   ],
   "source": [
    "xvalue = southernhem[\"Latitude\"]\n",
    "yvalue = southernhem[\"Temperature\"]\n",
    "plt.scatter(xvalue, yvalue)\n",
    "\n",
    "(slope, intercept, rvalue, pvalue, stderr) = linregress(xvalue, yvalue)\n",
    "\n",
    "# Get regression values\n",
    "regressionvalue = xvalue * slope + intercept\n",
    "#print(f'The r value is {regressionValues}')\n",
    "line = \"y=\" + str(round(slope, 2)) + \"x+\" + str(round(intercept,2))\n",
    "\n",
    "plt.scatter(xvalue, yvalue)\n",
    "plt.plot(xvalue, regressionvalue)\n",
    "\n",
    "plt.xlabel(\"Latitude\")\n",
    "plt.ylabel(\"Max Temperature\")\n",
    "plt.annotate(line, (10,15))"
   ]
  },
  {
   "cell_type": "markdown",
   "metadata": {},
   "source": [
    "####  Northern Hemisphere - Humidity (%) vs. Latitude Linear Regression"
   ]
  },
  {
   "cell_type": "code",
   "execution_count": 123,
   "metadata": {},
   "outputs": [
    {
     "data": {
      "text/plain": [
       "Text(10, 15, 'y=0.39x+56.94')"
      ]
     },
     "execution_count": 123,
     "metadata": {},
     "output_type": "execute_result"
    },
    {
     "data": {
      "image/png": "[encoded data removed]",
      "text/plain": [
       "<Figure size 432x288 with 1 Axes>"
      ]
     },
     "metadata": {
      "needs_background": "light"
     },
     "output_type": "display_data"
    }
   ],
   "source": [
    "xvalue = northernhem[\"Latitude\"]\n",
    "yvalue = northernhem[\"Humidity\"]\n",
    "plt.scatter(xvalue, yvalue)\n",
    "\n",
    "(slope, intercept, rvalue, pvalue, stderr) = linregress(xvalue, yvalue)\n",
    "\n",
    "# Get regression values\n",
    "regressionvalue = xvalue * slope + intercept\n",
    "#print(f'The r value is {regressionValues}')\n",
    "line = \"y=\" + str(round(slope, 2)) + \"x+\" + str(round(intercept,2))\n",
    "\n",
    "plt.scatter(xvalue, yvalue)\n",
    "plt.plot(xvalue, regressionvalue)\n",
    "\n",
    "plt.xlabel(\"Latitude\")\n",
    "plt.ylabel(\"Humidity (%)\")\n",
    "plt.annotate(line, (10,15))"
   ]
  },
  {
   "cell_type": "markdown",
   "metadata": {},
   "source": [
    "####  Southern Hemisphere - Humidity (%) vs. Latitude Linear Regression"
   ]
  },
  {
   "cell_type": "code",
   "execution_count": 124,
   "metadata": {},
   "outputs": [
    {
     "data": {
      "text/plain": [
       "Text(10, 15, 'y=0.01x+69.79')"
      ]
     },
     "execution_count": 124,
     "metadata": {},
     "output_type": "execute_result"
    },
    {
     "data": {
      "image/png": "[encoded data removed]",
      "text/plain": [
       "<Figure size 432x288 with 1 Axes>"
      ]
     },
     "metadata": {
      "needs_background": "light"
     },
     "output_type": "display_data"
    }
   ],
   "source": [
    "xvalue = southernhem[\"Latitude\"]\n",
    "yvalue = southernhem[\"Humidity\"]\n",
    "plt.scatter(xvalue, yvalue)\n",
    "\n",
    "(slope, intercept, rvalue, pvalue, stderr) = linregress(xvalue, yvalue)\n",
    "\n",
    "# Get regression values\n",
    "regressionvalue = xvalue * slope + intercept\n",
    "#print(f'The r value is {regressionValues}')\n",
    "line = \"y=\" + str(round(slope, 2)) + \"x+\" + str(round(intercept,2))\n",
    "\n",
    "plt.scatter(xvalue, yvalue)\n",
    "plt.plot(xvalue, regressionvalue)\n",
    "\n",
    "plt.xlabel(\"Latitude\")\n",
    "plt.ylabel(\"Humidity (%)\")\n",
    "plt.annotate(line, (10,15))"
   ]
  },
  {
   "cell_type": "markdown",
   "metadata": {},
   "source": [
    "####  Northern Hemisphere - Cloudiness (%) vs. Latitude Linear Regression"
   ]
  },
  {
   "cell_type": "code",
   "execution_count": 125,
   "metadata": {},
   "outputs": [
    {
     "data": {
      "text/plain": [
       "Text(10, 15, 'y=0.38x+37.57')"
      ]
     },
     "execution_count": 125,
     "metadata": {},
     "output_type": "execute_result"
    },
    {
     "data": {
      "image/png": "[encoded data removed]",
      "text/plain": [
       "<Figure size 432x288 with 1 Axes>"
      ]
     },
     "metadata": {
      "needs_background": "light"
     },
     "output_type": "display_data"
    }
   ],
   "source": [
    "xvalue = northernhem[\"Latitude\"]\n",
    "yvalue = northernhem[\"Cloudiness\"]\n",
    "plt.scatter(xvalue, yvalue)\n",
    "\n",
    "(slope, intercept, rvalue, pvalue, stderr) = linregress(xvalue, yvalue)\n",
    "\n",
    "# Get regression values\n",
    "regressionvalue = xvalue * slope + intercept\n",
    "#print(f'The r value is {regressionValues}')\n",
    "line = \"y=\" + str(round(slope, 2)) + \"x+\" + str(round(intercept,2))\n",
    "\n",
    "plt.scatter(xvalue, yvalue)\n",
    "plt.plot(xvalue, regressionvalue)\n",
    "\n",
    "plt.xlabel(\"Latitude\")\n",
    "plt.ylabel(\"Cloudiness (%)\")\n",
    "plt.annotate(line, (10,15))"
   ]
  },
  {
   "cell_type": "markdown",
   "metadata": {},
   "source": [
    "####  Southern Hemisphere - Cloudiness (%) vs. Latitude Linear Regression"
   ]
  },
  {
   "cell_type": "code",
   "execution_count": 126,
   "metadata": {},
   "outputs": [
    {
     "data": {
      "text/plain": [
       "Text(10, 15, 'y=0.71x+69.13')"
      ]
     },
     "execution_count": 126,
     "metadata": {},
     "output_type": "execute_result"
    },
    {
     "data": {
      "image/png": "[encoded data removed]",
      "text/plain": [
       "<Figure size 432x288 with 1 Axes>"
      ]
     },
     "metadata": {
      "needs_background": "light"
     },
     "output_type": "display_data"
    }
   ],
   "source": [
    "xvalue = southernhem[\"Latitude\"]\n",
    "yvalue = southernhem[\"Cloudiness\"]\n",
    "plt.scatter(xvalue, yvalue)\n",
    "\n",
    "(slope, intercept, rvalue, pvalue, stderr) = linregress(xvalue, yvalue)\n",
    "\n",
    "# Get regression values\n",
    "regressionvalue = xvalue * slope + intercept\n",
    "#print(f'The r value is {regressionValues}')\n",
    "line = \"y=\" + str(round(slope, 2)) + \"x+\" + str(round(intercept,2))\n",
    "\n",
    "plt.scatter(xvalue, yvalue)\n",
    "plt.plot(xvalue, regressionvalue)\n",
    "\n",
    "plt.xlabel(\"Latitude\")\n",
    "plt.ylabel(\"Cloudiness (%)\")\n",
    "plt.annotate(line, (10,15))"
   ]
  },
  {
   "cell_type": "markdown",
   "metadata": {},
   "source": [
    "####  Northern Hemisphere - Wind Speed (mph) vs. Latitude Linear Regression"
   ]
  },
  {
   "cell_type": "code",
   "execution_count": 127,
   "metadata": {},
   "outputs": [
    {
     "data": {
      "text/plain": [
       "Text(10, 15, 'y=0.03x+6.75')"
      ]
     },
     "execution_count": 127,
     "metadata": {},
     "output_type": "execute_result"
    },
    {
     "data": {
      "image/png": "[encoded data removed]",
      "text/plain": [
       "<Figure size 432x288 with 1 Axes>"
      ]
     },
     "metadata": {
      "needs_background": "light"
     },
     "output_type": "display_data"
    }
   ],
   "source": [
    "xvalue = northernhem[\"Latitude\"]\n",
    "yvalue = northernhem[\"Wind Speed\"]\n",
    "plt.scatter(xvalue, yvalue)\n",
    "\n",
    "(slope, intercept, rvalue, pvalue, stderr) = linregress(xvalue, yvalue)\n",
    "\n",
    "# Get regression values\n",
    "regressionvalue = xvalue * slope + intercept\n",
    "#print(f'The r value is {regressionValues}')\n",
    "line = \"y=\" + str(round(slope, 2)) + \"x+\" + str(round(intercept,2))\n",
    "\n",
    "plt.scatter(xvalue, yvalue)\n",
    "plt.plot(xvalue, regressionvalue)\n",
    "\n",
    "plt.xlabel(\"Latitude\")\n",
    "plt.ylabel(\"Cloudiness (%)\")\n",
    "plt.annotate(line, (10,15))"
   ]
  },
  {
   "cell_type": "markdown",
   "metadata": {},
   "source": [
    "####  Southern Hemisphere - Wind Speed (mph) vs. Latitude Linear Regression"
   ]
  },
  {
   "cell_type": "code",
   "execution_count": 128,
   "metadata": {},
   "outputs": [
    {
     "data": {
      "text/plain": [
       "Text(10, 15, 'y=-0.09x+6.09')"
      ]
     },
     "execution_count": 128,
     "metadata": {},
     "output_type": "execute_result"
    },
    {
     "data": {
      "image/png": "[encoded data removed]",
      "text/plain": [
       "<Figure size 432x288 with 1 Axes>"
      ]
     },
     "metadata": {
      "needs_background": "light"
     },
     "output_type": "display_data"
    }
   ],
   "source": [
    "xvalue = southernhem[\"Latitude\"]\n",
    "yvalue = southernhem[\"Wind Speed\"]\n",
    "plt.scatter(xvalue, yvalue)\n",
    "\n",
    "(slope, intercept, rvalue, pvalue, stderr) = linregress(xvalue, yvalue)\n",
    "\n",
    "# Get regression values\n",
    "regressionvalue = xvalue * slope + intercept\n",
    "#print(f'The r value is {regressionValues}')\n",
    "line = \"y=\" + str(round(slope, 2)) + \"x+\" + str(round(intercept,2))\n",
    "\n",
    "plt.scatter(xvalue, yvalue)\n",
    "plt.plot(xvalue, regressionvalue)\n",
    "\n",
    "plt.xlabel(\"Latitude\")\n",
    "plt.ylabel(\"Cloudiness (%)\")\n",
    "plt.annotate(line, (10,15))"
   ]
  },
  {
   "cell_type": "code",
   "execution_count": null,
   "metadata": {},
   "outputs": [],
   "source": []
  }
 ],
 "metadata": {
  "anaconda-cloud": {},
  "kernel_info": {
   "name": "python3"
  },
  "kernelspec": {
   "display_name": "Python 3",
   "language": "python",
   "name": "python3"
  },
  "language_info": {
   "codemirror_mode": {
    "name": "ipython",
    "version": 3
   },
   "file_extension": ".py",
   "mimetype": "text/x-python",
   "name": "python",
   "nbconvert_exporter": "python",
   "pygments_lexer": "ipython3",
   "version": "3.8.3"
  },
  "latex_envs": {
   "LaTeX_envs_menu_present": true,
   "autoclose": false,
   "autocomplete": true,
   "bibliofile": "biblio.bib",
   "cite_by": "apalike",
   "current_citInitial": 1,
   "eqLabelWithNumbers": true,
   "eqNumInitial": 1,
   "hotkeys": {
    "equation": "Ctrl-E",
    "itemize": "Ctrl-I"
   },
   "labels_anchors": false,
   "latex_user_defs": false,
   "report_style_numbering": false,
   "user_envs_cfg": false
  },
  "nteract": {
   "version": "0.12.3"
  }
 },
 "nbformat": 4,
 "nbformat_minor": 2
}
